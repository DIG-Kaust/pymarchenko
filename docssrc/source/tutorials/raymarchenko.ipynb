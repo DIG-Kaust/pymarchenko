{
  "cells": [
    {
      "cell_type": "code",
      "execution_count": null,
      "metadata": {
        "collapsed": false
      },
      "outputs": [],
      "source": [
        "%matplotlib inline"
      ]
    },
    {
      "cell_type": "markdown",
      "metadata": {},
      "source": [
        "\n# 3. Rayleigh-Marchenko redatuming\nThis example shows how to set-up and run the\n:py:class:`pymarchenko.raymarchenko.RayleighMarchenko` algorithm using\nsynthetic data.\n"
      ]
    },
    {
      "cell_type": "code",
      "execution_count": null,
      "metadata": {
        "collapsed": false
      },
      "outputs": [],
      "source": [
        "# sphinx_gallery_thumbnail_number = 5\n# pylint: disable=C0103\nimport warnings\nimport numpy as np\n\nimport matplotlib.pyplot as plt\n\nfrom scipy.signal import convolve\nfrom pymarchenko.raymarchenko import RayleighMarchenko\n\nwarnings.filterwarnings('ignore')\nplt.close('all')"
      ]
    },
    {
      "cell_type": "markdown",
      "metadata": {},
      "source": [
        "Let's start by defining some input parameters and loading the geometry\n\n"
      ]
    },
    {
      "cell_type": "code",
      "execution_count": null,
      "metadata": {
        "collapsed": false
      },
      "outputs": [],
      "source": [
        "# Input parameters\ninputfile = '../testdata/raymarchenko/input.npz'\n\nvel = 2400.0         # velocity\ntsoff = 0.06         # direct arrival time shift source side\ntroff = 0.06         # direct arrival time shift receiver side\nnsmooth = 10         # time window smoothing\nnfmax = 550          # max frequency for MDC (#samples)\nniter = 30           # iterations\nconvolvedata = True  # Apply convolution to data\n\ninputdata = np.load(inputfile)\n\n# Receivers\nr = inputdata['r']\nnr = r.shape[1]\ndr = r[0, 1]-r[0, 0]\n\n# Sources\ns = inputdata['s']\nns = s.shape[1]\nds = s[0, 1]-s[0, 0]\n\n# Virtual points\nvs = inputdata['vs']\n\n# Density model\nrho = inputdata['rho']\nz, x = inputdata['z'], inputdata['x']\n\nplt.figure(figsize=(10, 5))\nplt.imshow(rho, cmap='gray', extent=(x[0], x[-1], z[-1], z[0]))\nplt.scatter(s[0, 5::10], s[1, 5::10], marker='*', s=150, c='r', edgecolors='k')\nplt.scatter(r[0, ::10], r[1, ::10], marker='v', s=150, c='b', edgecolors='k')\nplt.scatter(vs[0], vs[1], marker='.', s=250, c='m', edgecolors='k')\nplt.axis('tight')\nplt.xlabel('x [m]')\nplt.ylabel('y [m]')\nplt.title('Model and Geometry')\nplt.xlim(x[0], x[-1])\nplt.tight_layout()"
      ]
    },
    {
      "cell_type": "markdown",
      "metadata": {},
      "source": [
        "Let's now load and display the up and downgoing particle velocity data and\nsubsurface fields\n\n"
      ]
    },
    {
      "cell_type": "code",
      "execution_count": null,
      "metadata": {
        "collapsed": false
      },
      "outputs": [],
      "source": [
        "# Time axis\nt = inputdata['t']\not, dt, nt = t[0], t[1]-t[0], len(t)\n\n# Wavelet\nwav = inputdata['wav']\nwav_c = np.argmax(wav)\n\n# Reflection data (R[s, r, t]) and subsurface fields\nVzu = inputdata['Vzu']\nVzd = inputdata['Vzd']\n\n# Convolve data with wavelet\nif convolvedata:\n    Vzu = dt * np.apply_along_axis(convolve, -1, Vzu, wav, mode='full')\n    Vzu = Vzu[..., wav_c:][..., :nt]\n    Vzd = dt * np.apply_along_axis(convolve, -1, Vzd, wav, mode='full')\n    Vzd = Vzd[..., wav_c:][..., :nt]\n\nfig, axs = plt.subplots(1, 3, sharey=True, figsize=(15, 9))\naxs[0].imshow(Vzu[ns//2].T+Vzd[ns//2].T, cmap='gray', vmin=-1e-1, vmax=1e-1,\n              extent=(r[0,0], r[0,-1], t[-1], t[0]))\naxs[0].set_title(r'$Vz$')\naxs[0].set_xlabel(r'$x_R$')\naxs[0].set_ylabel(r'$t$')\naxs[0].axis('tight')\naxs[0].set_ylim(1.5, 0)\naxs[1].imshow(Vzu[ns//2].T, cmap='gray', vmin=-1e-1, vmax=1e-1,\n              extent=(r[0,0], r[0,-1], t[-1], t[0]))\naxs[1].set_title(r'$Vz_{up}$')\naxs[1].set_xlabel(r'$x_R$')\naxs[1].axis('tight')\naxs[1].set_ylim(1.5, 0)\naxs[2].imshow(Vzd[ns//2].T, cmap='gray', vmin=-1e-1, vmax=1e-1,\n              extent=(r[0,0], r[0,-1], t[-1], t[0]))\naxs[2].set_title(r'$Vz_{dn}$')\naxs[2].set_xlabel(r'$x_R$')\naxs[2].axis('tight')\naxs[2].set_ylim(1.5, 0)\nfig.tight_layout()"
      ]
    },
    {
      "cell_type": "markdown",
      "metadata": {},
      "source": [
        "And subsurface fields\n\n"
      ]
    },
    {
      "cell_type": "code",
      "execution_count": null,
      "metadata": {
        "collapsed": false
      },
      "outputs": [],
      "source": [
        "Gsub = inputdata['Gsub']\nG0sub = inputdata['G0sub']\n\nGsub = np.apply_along_axis(convolve, 0, Gsub, wav, mode='full')\nGsub = Gsub[wav_c:][:nt]\nG0sub = np.apply_along_axis(convolve, 0, G0sub, wav, mode='full')\nG0sub = G0sub[wav_c:][:nt]\n\n# Convolve reference Green's function with wavelet\nif convolvedata:\n    Gsub = dt * np.apply_along_axis(convolve, 0, Gsub, wav, mode='full')\n    Gsub = Gsub[wav_c:][:nt]\n\nfig, axs = plt.subplots(1, 2, sharey=True, figsize=(8, 6))\naxs[0].imshow(Gsub, cmap='gray', vmin=-1e7, vmax=1e7,\n              extent=(s[0, 0], s[0, -1], t[-1], t[0]))\naxs[0].set_title('G')\naxs[0].set_xlabel(r'$x_R$')\naxs[0].set_ylabel(r'$t$')\naxs[0].axis('tight')\naxs[0].set_ylim(1.5, 0)\naxs[1].imshow(G0sub, cmap='gray', vmin=-1e7, vmax=1e7,\n              extent=(r[0, 0], r[0, -1], t[-1], t[0]))\naxs[1].set_title('G0')\naxs[1].set_xlabel(r'$x_R$')\naxs[1].set_ylabel(r'$t$')\naxs[1].axis('tight')\naxs[1].set_ylim(1.5, 0)\nfig.tight_layout()"
      ]
    },
    {
      "cell_type": "markdown",
      "metadata": {},
      "source": [
        "Let's now create an object of the\n:py:class:`pymarchenko.raymarchenko.RayleighMarchenko` class and apply\nredatuming for a single subsurface point ``vs``.\n\n"
      ]
    },
    {
      "cell_type": "code",
      "execution_count": null,
      "metadata": {
        "collapsed": false
      },
      "outputs": [],
      "source": [
        "# Direct arrival traveltimes\ntravs = np.sqrt((vs[0]-s[0])**2+(vs[1]-s[1])**2)/vel\ntravr = np.sqrt((vs[0]-r[0])**2+(vs[1]-r[1])**2)/vel\n\nrm = RayleighMarchenko(Vzd, Vzu, dt=dt, dr=dr,\n                       nfmax=nfmax, wav=wav, toff=troff, nsmooth=nsmooth,\n                       dtype='float64', saveVt=True, prescaled=False)\n\nf1_inv_minus, f1_inv_plus, p0_minus, g_inv_minus, g_inv_plus = \\\n    rm.apply_onepoint(travs, travr, G0=G0sub.T, rtm=True, greens=True,\n                      dottest=True, **dict(iter_lim=niter, show=True))\ng_inv_tot = -(g_inv_minus + g_inv_plus)"
      ]
    },
    {
      "cell_type": "markdown",
      "metadata": {},
      "source": [
        "We can now compare the result of Rayleigh-Marchenko redatuming\nwith standard redatuming\n\n"
      ]
    },
    {
      "cell_type": "code",
      "execution_count": null,
      "metadata": {
        "collapsed": false
      },
      "outputs": [],
      "source": [
        "fig, axs = plt.subplots(1, 3, sharey=True, figsize=(12, 7))\naxs[0].imshow(p0_minus.T, cmap='gray', vmin=-1e7, vmax=1e7,\n              extent=(r[0, 0], r[0, -1], t[-1], -t[-1]))\naxs[0].set_title(r'$p_0^-$')\naxs[0].set_xlabel(r'$x_R$')\naxs[0].set_ylabel(r'$t$')\naxs[0].axis('tight')\naxs[0].set_ylim(2, 0)\naxs[1].imshow(g_inv_minus.T, cmap='gray', vmin=-1e7, vmax=1e7,\n              extent=(r[0, 0], r[0, -1], t[-1], -t[-1]))\naxs[1].set_title(r'$g^-$')\naxs[1].set_xlabel(r'$x_R$')\naxs[1].set_ylabel(r'$t$')\naxs[1].axis('tight')\naxs[1].set_ylim(2, 0)\naxs[2].imshow(g_inv_plus.T, cmap='gray', vmin=-1e7, vmax=1e7,\n              extent=(r[0, 0], r[0, -1], t[-1], -t[-1]))\naxs[2].set_title(r'$g^+$')\naxs[2].set_xlabel(r'$x_R$')\naxs[2].set_ylabel(r'$t$')\naxs[2].axis('tight')\naxs[2].set_ylim(2, 0)\nfig.tight_layout()"
      ]
    },
    {
      "cell_type": "markdown",
      "metadata": {},
      "source": [
        "And compare the total Green's function with the directly modelled one\n\n"
      ]
    },
    {
      "cell_type": "code",
      "execution_count": null,
      "metadata": {
        "collapsed": false
      },
      "outputs": [],
      "source": [
        "fig = plt.figure(figsize=(12, 7))\nax1 = plt.subplot2grid((1, 5), (0, 0), colspan=2)\nax2 = plt.subplot2grid((1, 5), (0, 2), colspan=2)\nax3 = plt.subplot2grid((1, 5), (0, 4))\nax1.imshow(Gsub / Gsub.max(), cmap='gray', vmin=-3e-1, vmax=3e-1,\n           extent=(r[0, 0], r[0, -1], t[-1], t[0]))\nax1.set_title(r'$G_{true}$')\naxs[0].set_xlabel(r'$x_R$')\naxs[0].set_ylabel(r'$t$')\nax1.axis('tight')\nax1.set_ylim(2, 0)\nax2.imshow(g_inv_tot.T / g_inv_tot.max(), cmap='gray', vmin=-3e-1, vmax=3e-1,\n           extent=(r[0, 0], r[0, -1], t[-1], -t[-1]))\nax2.set_title(r'$G_{est}$')\naxs[1].set_xlabel(r'$x_R$')\naxs[1].set_ylabel(r'$t$')\nax2.axis('tight')\nax2.set_ylim(2, 0)\nax3.plot(Gsub[:, ns//2] / Gsub.max() * (t ** 1.5), t, 'r', lw=5)\nax3.plot(g_inv_tot[ns//2, nt-1:] / g_inv_tot.max() * (t ** 1.5), t, 'k', lw=3)\nax3.set_ylim(1.6, 0)\nfig.tight_layout()"
      ]
    }
  ],
  "metadata": {
    "kernelspec": {
      "display_name": "Python 3",
      "language": "python",
      "name": "python3"
    },
    "language_info": {
      "codemirror_mode": {
        "name": "ipython",
        "version": 3
      },
      "file_extension": ".py",
      "mimetype": "text/x-python",
      "name": "python",
      "nbconvert_exporter": "python",
      "pygments_lexer": "ipython3",
      "version": "3.8.5"
    }
  },
  "nbformat": 4,
  "nbformat_minor": 0
}