{
  "cells": [
    {
      "cell_type": "code",
      "execution_count": null,
      "metadata": {
        "collapsed": false
      },
      "outputs": [],
      "source": [
        "%matplotlib inline"
      ]
    },
    {
      "cell_type": "markdown",
      "metadata": {},
      "source": [
        "\n# 1. Marchenko redatuming by iterative substitution\nThis example shows how to set-up and run the\n:py:class:`pymarchenko.neumarchenko.NeumannMarchenko` algorithm using synthetic data.\n"
      ]
    },
    {
      "cell_type": "code",
      "execution_count": null,
      "metadata": {
        "collapsed": false
      },
      "outputs": [],
      "source": [
        "# sphinx_gallery_thumbnail_number = 5\n# pylint: disable=C0103\nimport warnings\nimport numpy as np\nimport matplotlib.pyplot as plt\n\nfrom scipy.signal import convolve\nfrom pymarchenko.neumarchenko import NeumannMarchenko\n\nwarnings.filterwarnings('ignore')\nplt.close('all')"
      ]
    },
    {
      "cell_type": "markdown",
      "metadata": {},
      "source": [
        "Let's start by defining some input parameters and loading the geometry\n\n"
      ]
    },
    {
      "cell_type": "code",
      "execution_count": null,
      "metadata": {
        "collapsed": false
      },
      "outputs": [],
      "source": [
        "# Input parameters\ninputfile = '../testdata/marchenko/input.npz'\n\nvel = 2400.0         # velocity\ntoff = 0.045         # direct arrival time shift\nnsmooth = 10         # time window smoothing\nnfmax = 400          # max frequency for MDC (#samples)\nniter = 10           # iterations\n\ninputdata = np.load(inputfile)\n\n# Receivers\nr = inputdata['r']\nnr = r.shape[1]\ndr = r[0, 1]-r[0, 0]\n\n# Sources\ns = inputdata['s']\nns = s.shape[1]\nds = s[0, 1]-s[0, 0]\n\n# Virtual points\nvs = inputdata['vs']\n\n# Density model\nrho = inputdata['rho']\nz, x = inputdata['z'], inputdata['x']\n\nplt.figure(figsize=(10, 5))\nplt.imshow(rho, cmap='gray', extent=(x[0], x[-1], z[-1], z[0]))\nplt.scatter(s[0, 5::10], s[1, 5::10], marker='*', s=150, c='r', edgecolors='k')\nplt.scatter(r[0, ::10], r[1, ::10], marker='v', s=150, c='b', edgecolors='k')\nplt.scatter(vs[0], vs[1], marker='.', s=250, c='m', edgecolors='k')\nplt.axis('tight')\nplt.xlabel('x [m]')\nplt.ylabel('y [m]')\nplt.title('Model and Geometry')\nplt.xlim(x[0], x[-1])\nplt.tight_layout()"
      ]
    },
    {
      "cell_type": "markdown",
      "metadata": {},
      "source": [
        "Let's now load and display the reflection response\n\n"
      ]
    },
    {
      "cell_type": "code",
      "execution_count": null,
      "metadata": {
        "collapsed": false
      },
      "outputs": [],
      "source": [
        "# Time axis\nt = inputdata['t'][:-100]\not, dt, nt = t[0], t[1]-t[0], len(t)\n\n# Reflection data (R[s, r, t]) and subsurface fields\nR = inputdata['R'][:, :, :-100]\nR = np.swapaxes(R, 0, 1) # just because of how the data was saved\n\nfig, axs = plt.subplots(1, 3, sharey=True, figsize=(12, 7))\naxs[0].imshow(R[0].T, cmap='gray', vmin=-1e-2, vmax=1e-2,\n              extent=(r[0, 0], r[0, -1], t[-1], t[0]))\naxs[0].set_title('R shot=0')\naxs[0].set_xlabel(r'$x_R$')\naxs[0].set_ylabel(r'$t$')\naxs[0].axis('tight')\naxs[0].set_ylim(1.5, 0)\naxs[1].imshow(R[ns//2].T, cmap='gray', vmin=-1e-2, vmax=1e-2,\n              extent=(r[0, 0], r[0, -1], t[-1], t[0]))\naxs[1].set_title('R shot=%d' %(ns//2))\naxs[1].set_xlabel(r'$x_R$')\naxs[1].set_ylabel(r'$t$')\naxs[1].axis('tight')\naxs[1].set_ylim(1.5, 0)\naxs[2].imshow(R[-1].T, cmap='gray', vmin=-1e-2, vmax=1e-2,\n              extent=(r[0, 0], r[0, -1], t[-1], t[0]))\naxs[2].set_title('R shot=%d' %ns)\naxs[2].set_xlabel(r'$x_R$')\naxs[2].axis('tight')\naxs[2].set_ylim(1.5, 0)\nfig.tight_layout()"
      ]
    },
    {
      "cell_type": "markdown",
      "metadata": {},
      "source": [
        "And the true and background subsurface fields\n\n"
      ]
    },
    {
      "cell_type": "code",
      "execution_count": null,
      "metadata": {
        "collapsed": false
      },
      "outputs": [],
      "source": [
        "# Subsurface fields\nGsub = inputdata['Gsub'][:-100]\nG0sub = inputdata['G0sub'][:-100]\nwav = inputdata['wav']\nwav_c = np.argmax(wav)\n\nGsub = np.apply_along_axis(convolve, 0, Gsub, wav, mode='full')\nGsub = Gsub[wav_c:][:nt]\nG0sub = np.apply_along_axis(convolve, 0, G0sub, wav, mode='full')\nG0sub = G0sub[wav_c:][:nt]\n\nfig, axs = plt.subplots(1, 2, sharey=True, figsize=(8, 6))\naxs[0].imshow(Gsub, cmap='gray', vmin=-1e6, vmax=1e6,\n              extent=(r[0, 0], r[0, -1], t[-1], t[0]))\naxs[0].set_title('G')\naxs[0].set_xlabel(r'$x_R$')\naxs[0].set_ylabel(r'$t$')\naxs[0].axis('tight')\naxs[0].set_ylim(1.5, 0)\naxs[1].imshow(G0sub, cmap='gray', vmin=-1e6, vmax=1e6,\n              extent=(r[0, 0], r[0, -1], t[-1], t[0]))\naxs[1].set_title('G0')\naxs[1].set_xlabel(r'$x_R$')\naxs[1].set_ylabel(r'$t$')\naxs[1].axis('tight')\naxs[1].set_ylim(1.5, 0)\nfig.tight_layout()"
      ]
    },
    {
      "cell_type": "markdown",
      "metadata": {},
      "source": [
        "Let's now create an object of the\n:py:class:`pylops.waveeqprocessing.Marchenko` class and apply redatuming\nfor a single subsurface point ``vs``.\n\n"
      ]
    },
    {
      "cell_type": "code",
      "execution_count": null,
      "metadata": {
        "collapsed": false
      },
      "outputs": [],
      "source": [
        "# Direct arrival traveltime\ntrav = np.sqrt((vs[0]-r[0])**2+(vs[1]-r[1])**2)/vel\n\nMarchenkoWM = NeumannMarchenko(R, dt=dt, dr=dr, nfmax=nfmax, wav=wav,\n                               toff=toff, nsmooth=nsmooth)\n\nf1_inv_minus, f1_inv_plus, p0_minus, g_inv_minus, g_inv_plus = \\\n    MarchenkoWM.apply_onepoint(trav, G0=G0sub.T, rtm=True,\n                               greens=True, n_iter=niter)\ng_inv_tot = g_inv_minus + g_inv_plus"
      ]
    },
    {
      "cell_type": "markdown",
      "metadata": {},
      "source": [
        "We can now compare the result of Marchenko redatuming\nwith standard redatuming\n\n"
      ]
    },
    {
      "cell_type": "code",
      "execution_count": null,
      "metadata": {
        "collapsed": false
      },
      "outputs": [],
      "source": [
        "fig, axs = plt.subplots(1, 3, sharey=True, figsize=(12, 7))\naxs[0].imshow(p0_minus.T, cmap='gray', vmin=-5e5, vmax=5e5,\n              extent=(r[0, 0], r[0, -1], t[-1], -t[-1]))\naxs[0].set_title(r'$p_0^-$')\naxs[0].set_xlabel(r'$x_R$')\naxs[0].set_ylabel(r'$t$')\naxs[0].axis('tight')\naxs[0].set_ylim(1.2, 0)\naxs[1].imshow(g_inv_minus.T, cmap='gray', vmin=-5e5, vmax=5e5,\n              extent=(r[0, 0], r[0, -1], t[-1], -t[-1]))\naxs[1].set_title(r'$g^-$')\naxs[1].set_xlabel(r'$x_R$')\naxs[1].set_ylabel(r'$t$')\naxs[1].axis('tight')\naxs[1].set_ylim(1.2, 0)\naxs[2].imshow(g_inv_plus.T, cmap='gray', vmin=-5e5, vmax=5e5,\n              extent=(r[0, 0], r[0, -1], t[-1], -t[-1]))\naxs[2].set_title(r'$g^+$')\naxs[2].set_xlabel(r'$x_R$')\naxs[2].set_ylabel(r'$t$')\naxs[2].axis('tight')\naxs[2].set_ylim(1.2, 0)\nfig.tight_layout()"
      ]
    },
    {
      "cell_type": "markdown",
      "metadata": {},
      "source": [
        "And compare the total Green's function with the directly modelled one\n\n"
      ]
    },
    {
      "cell_type": "code",
      "execution_count": null,
      "metadata": {
        "collapsed": false
      },
      "outputs": [],
      "source": [
        "fig = plt.figure(figsize=(12, 7))\nax1 = plt.subplot2grid((1, 5), (0, 0), colspan=2)\nax2 = plt.subplot2grid((1, 5), (0, 2), colspan=2)\nax3 = plt.subplot2grid((1, 5), (0, 4))\nax1.imshow(Gsub, cmap='gray', vmin=-5e5, vmax=5e5,\n           extent=(r[0, 0], r[0, -1], t[-1], t[0]))\nax1.set_title(r'$G_{true}$')\naxs[0].set_xlabel(r'$x_R$')\naxs[0].set_ylabel(r'$t$')\nax1.axis('tight')\nax1.set_ylim(1.2, 0)\nax2.imshow(g_inv_tot.T, cmap='gray', vmin=-5e5, vmax=5e5,\n           extent=(r[0, 0], r[0, -1], t[-1], -t[-1]))\nax2.set_title(r'$G_{est}$')\naxs[1].set_xlabel(r'$x_R$')\naxs[1].set_ylabel(r'$t$')\nax2.axis('tight')\nax2.set_ylim(1.2, 0)\nax3.plot(Gsub[:, nr//2]/Gsub.max(), t, 'r', lw=5)\nax3.plot(g_inv_tot[nr//2, nt-1:]/g_inv_tot.max(), t, 'k', lw=3)\nax3.set_ylim(1.2, 0)\nfig.tight_layout()"
      ]
    }
  ],
  "metadata": {
    "kernelspec": {
      "display_name": "Python 3",
      "language": "python",
      "name": "python3"
    },
    "language_info": {
      "codemirror_mode": {
        "name": "ipython",
        "version": 3
      },
      "file_extension": ".py",
      "mimetype": "text/x-python",
      "name": "python",
      "nbconvert_exporter": "python",
      "pygments_lexer": "ipython3",
      "version": "3.8.5"
    }
  },
  "nbformat": 4,
  "nbformat_minor": 0
}