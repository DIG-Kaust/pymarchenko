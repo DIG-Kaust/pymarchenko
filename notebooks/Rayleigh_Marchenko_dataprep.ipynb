{
 "cells": [
  {
   "cell_type": "markdown",
   "metadata": {},
   "source": [
    "# Rayleigh-Marchenko redatuming data preparation for library"
   ]
  },
  {
   "cell_type": "code",
   "execution_count": 1,
   "metadata": {},
   "outputs": [],
   "source": [
    "%load_ext autoreload\n",
    "%autoreload 2\n",
    "%matplotlib inline\n",
    "\n",
    "import warnings\n",
    "warnings.filterwarnings('ignore')\n",
    "\n",
    "import numpy as np\n",
    "import matplotlib.pyplot as plt\n",
    "import scipy as sp\n",
    "import segyio\n",
    "\n",
    "from scipy.sparse import csr_matrix, vstack\n",
    "from scipy.linalg import lstsq, solve\n",
    "from scipy.sparse.linalg import cg, lsqr\n",
    "from scipy.signal import convolve, filtfilt\n",
    "from scipy.io import loadmat\n",
    "\n",
    "from pylops                            import LinearOperator\n",
    "from pylops.utils                      import dottest\n",
    "from pylops.utils.wavelets             import *\n",
    "from pylops.utils.seismicevents        import *\n",
    "from pylops.utils.tapers               import *\n",
    "from pylops.basicoperators             import *\n",
    "from pylops.signalprocessing           import *\n",
    "from pylops.waveeqprocessing.mdd       import *\n",
    "from pylops.waveeqprocessing.marchenko import *\n",
    "from pylops.optimization.leastsquares  import *\n",
    "\n",
    "from pymarchenko.raymarchenko import RayleighMarchenko"
   ]
  },
  {
   "cell_type": "code",
   "execution_count": 2,
   "metadata": {},
   "outputs": [
    {
     "data": {
      "text/plain": [
       "['Gsub', 'G0sub', 'vs', 's', 'r', 't', 'rho', 'x', 'wav', 'R', 'z']"
      ]
     },
     "execution_count": 2,
     "metadata": {},
     "output_type": "execute_result"
    }
   ],
   "source": [
    "inputfile = '../data/marchenko/input.npz' # choose file in testdata folder of repo\n",
    "\n",
    "inputdatamck = np.load(inputfile)\n",
    "inputdatamck.files"
   ]
  },
  {
   "cell_type": "code",
   "execution_count": 3,
   "metadata": {},
   "outputs": [
    {
     "data": {
      "text/plain": [
       "((800,), (101, 101, 800))"
      ]
     },
     "execution_count": 3,
     "metadata": {},
     "output_type": "execute_result"
    }
   ],
   "source": [
    "inputdatamck['t'].shape, inputdatamck['R'].shape"
   ]
  },
  {
   "cell_type": "markdown",
   "metadata": {},
   "source": [
    "## Inputs"
   ]
  },
  {
   "cell_type": "code",
   "execution_count": 4,
   "metadata": {},
   "outputs": [],
   "source": [
    "inputfile = '/home/ravasim/Documents/Data/Shynclinal_flatwavelet_dualsensor/input_dualsensor.npz' # choose file in testdata folder of repo\n",
    "outputfile = '../data/raymarchenko/input.npz'\n",
    "outputtestfile = '../testdata/raymarchenko/input.npz'\n",
    "\n",
    "vel = 2400.0        # velocity\n",
    "tsoff = 0.06        # direct arrival time shift source side\n",
    "troff = 0.06        # direct arrival time shift receiver side\n",
    "nsmooth = 10        # time window smoothing \n",
    "nfmax = 550         # max frequency for MDC (#samples)\n",
    "nstaper = 11        # source/receiver taper lenght\n",
    "n_iter = 30         # iterations\n",
    "kt = 120            # portion of time axis to remove\n",
    "convolvedata = True # Apply convolution to data\n",
    "kind = 'full' # 'full' or 'test'\n",
    "\n",
    "if kind == 'full':\n",
    "    jr = 1           # subsampling in r\n",
    "    js = 2           # subsampling in s\n",
    "else:\n",
    "    jr = 2           # subsampling in r\n",
    "    js = 3           # subsampling in s'"
   ]
  },
  {
   "cell_type": "code",
   "execution_count": 5,
   "metadata": {},
   "outputs": [],
   "source": [
    "inputdata = np.load(inputfile)"
   ]
  },
  {
   "cell_type": "code",
   "execution_count": 6,
   "metadata": {},
   "outputs": [
    {
     "data": {
      "image/png": "[encoded data removed]",
      "text/plain": [
       "<Figure size 1296x648 with 1 Axes>"
      ]
     },
     "metadata": {
      "needs_background": "light"
     },
     "output_type": "display_data"
    }
   ],
   "source": [
    "# Receivers\n",
    "r = inputdata['r'][:,::jr]\n",
    "nr = r.shape[1]\n",
    "dr = r[0,1]-r[0,0]\n",
    "\n",
    "# Sources\n",
    "s = inputdata['s'][:,::js]\n",
    "ns = s.shape[1]\n",
    "ds = s[0,1]-s[0,0]\n",
    "\n",
    "# Virtual points\n",
    "vs = inputdata['vs']\n",
    "\n",
    "# Density model\n",
    "rho = inputdata['rho']\n",
    "z, x = inputdata['z'], inputdata['x']\n",
    "\n",
    "plt.figure(figsize=(18,9))\n",
    "plt.imshow(rho, cmap='gray', extent = (x[0], x[-1], z[-1], z[0]))\n",
    "plt.scatter(s[0, 5::10], s[1, 5::10], marker='*', s=150, c='r', edgecolors='k')\n",
    "plt.scatter(r[0, ::10],  r[1, ::10], marker='v', s=150, c='b', edgecolors='k')\n",
    "plt.scatter(vs[0], vs[1], marker='.', s=250, c='m', edgecolors='k')\n",
    "plt.axis('tight')\n",
    "plt.xlabel('x [m]'),plt.ylabel('y [m]'),plt.title('Model and Geometry')\n",
    "plt.xlim(x[0], x[-1]);"
   ]
  },
  {
   "cell_type": "code",
   "execution_count": 7,
   "metadata": {},
   "outputs": [],
   "source": [
    "# time axis\n",
    "t = inputdata['t']\n",
    "ot, dt, nt = t[0], t[1]-t[0], len(t)\n",
    "\n",
    "# separated data\n",
    "d = loadmat('/home/ravasim/Documents/Data/Shynclinal_flatwavelet_dualsensor/separated_data.mat')\n",
    "Vzu = d['VUP'][:,::jr,::js]\n",
    "Vzd = d['VDOWN'][:,::jr,::js]\n",
    "wav = inputdata['wav']\n",
    "wav = wav / np.max(np.abs(np.fft.fft(wav))*dt)\n",
    "wav_c = np.argmax(wav)"
   ]
  },
  {
   "cell_type": "code",
   "execution_count": 8,
   "metadata": {},
   "outputs": [],
   "source": [
    "# remove early time\n",
    "Vzu = Vzu[kt:]\n",
    "Vzd = Vzd[kt:]\n",
    "t = t[:-kt]\n",
    "nt = len(t)"
   ]
  },
  {
   "cell_type": "markdown",
   "metadata": {},
   "source": [
    "Read subsurface fields and wavelet to apply to subsurface fields"
   ]
  },
  {
   "cell_type": "code",
   "execution_count": 9,
   "metadata": {},
   "outputs": [],
   "source": [
    "Gsub = inputdata['Gsub'][:, ::js]\n",
    "G0sub = inputdata['G0sub'][:, ::jr]\n",
    "Gsub = Gsub[kt:]\n",
    "G0sub = G0sub[kt:]"
   ]
  },
  {
   "cell_type": "code",
   "execution_count": 10,
   "metadata": {},
   "outputs": [],
   "source": [
    "if kind == 'full':\n",
    "    np.savez(outputfile, Gsub=Gsub, G0sub=G0sub, vs=vs, s=s, r=r, t=t, rho=rho, x=x, wav=wav, \n",
    "             Vzu=Vzu.transpose(2, 1, 0), Vzd=Vzd.transpose(2, 1, 0), z=z)\n",
    "else:\n",
    "    itmax = 1000\n",
    "    np.savez(outputtestfile, Gsub=Gsub[:itmax].astype(np.float32), G0sub=G0sub[:itmax].astype(np.float32), \n",
    "             vs=vs, s=s, r=r, t=t[:itmax], rho=rho, x=x, wav=wav, \n",
    "             Vzu=Vzu[:itmax].transpose(2, 1, 0).astype(np.float32), \n",
    "             Vzd=Vzd[:itmax].transpose(2, 1, 0).astype(np.float32), z=z)"
   ]
  }
 ],
 "metadata": {
  "kernelspec": {
   "display_name": "Python 3",
   "language": "python",
   "name": "python3"
  },
  "language_info": {
   "codemirror_mode": {
    "name": "ipython",
    "version": 3
   },
   "file_extension": ".py",
   "mimetype": "text/x-python",
   "name": "python",
   "nbconvert_exporter": "python",
   "pygments_lexer": "ipython3",
   "version": "3.8.5"
  },
  "toc": {
   "base_numbering": 1,
   "nav_menu": {},
   "number_sections": true,
   "sideBar": true,
   "skip_h1_title": false,
   "title_cell": "Table of Contents",
   "title_sidebar": "Contents",
   "toc_cell": false,
   "toc_position": {
    "height": "calc(100% - 180px)",
    "left": "10px",
    "top": "150px",
    "width": "618.383px"
   },
   "toc_section_display": true,
   "toc_window_display": true
  }
 },
 "nbformat": 4,
 "nbformat_minor": 1
}
