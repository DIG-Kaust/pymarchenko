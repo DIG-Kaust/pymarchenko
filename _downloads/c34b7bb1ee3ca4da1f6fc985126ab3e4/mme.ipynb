{
  "cells": [
    {
      "cell_type": "markdown",
      "metadata": {},
      "source": [
        "\n# 5. Marchenko Multiple Elimination\nThis example performs internal multiple elimination using the\n:py:class:`pymarchenko.mme.MME` routine. The MME algorithm can also compensate\nfor transmission losses provided a proper choice of the windowing function,\nhere we show how this can be done with our routine.\n\nIn this tutorial, we will demultiple only a small portion of the data. Consult\nthe notebooks in the repository for a complete example.\n"
      ]
    },
    {
      "cell_type": "code",
      "execution_count": null,
      "metadata": {
        "collapsed": false
      },
      "outputs": [],
      "source": [
        "# sphinx_gallery_thumbnail_number = 3\n# pylint: disable=C0103\nimport warnings\nimport os\nimport numpy as np\nimport matplotlib.pyplot as plt\n\nfrom scipy.signal import convolve\nfrom pymarchenko.mme import MME\n\nwarnings.filterwarnings('ignore')\nplt.close('all')\n\nos.environ[\"OMP_NUM_THREADS\"] = \"1\"\nos.environ[\"MKL_NUM_THREADS\"] = \"1\""
      ]
    },
    {
      "cell_type": "markdown",
      "metadata": {},
      "source": [
        "Let's start by defining some input parameters and loading the geometry\n\n"
      ]
    },
    {
      "cell_type": "code",
      "execution_count": null,
      "metadata": {
        "collapsed": false
      },
      "outputs": [],
      "source": [
        "# Input parameters\ninputfile = '../testdata/marchenko/input.npz'\n\nvel = 2400.0         # velocity\ntoff = 0.045         # direct arrival time shift\nnsmooth = 10         # time window smoothing\nnfmax = 400          # max frequency for MDC (#samples)\nniter = 10           # iterations\nntmax = 200          # maximum time of data to demultiple\n\ninputdata = np.load(inputfile)\n\n# Receivers\nr = inputdata['r']\nnr = r.shape[1]\ndr = r[0, 1]-r[0, 0]\n\n# Sources\ns = inputdata['s']\nns = s.shape[1]\nds = s[0, 1]-s[0, 0]\n\n# Virtual points\nvs = inputdata['vs']\n\n# Density model\nrho = inputdata['rho']\nz, x = inputdata['z'], inputdata['x']\n\nplt.figure(figsize=(10, 5))\nplt.imshow(rho, cmap='gray', extent=(x[0], x[-1], z[-1], z[0]))\nplt.scatter(s[0, 5::10], s[1, 5::10], marker='*', s=150, c='r', edgecolors='k')\nplt.scatter(r[0, ::10], r[1, ::10], marker='v', s=150, c='b', edgecolors='k')\nplt.scatter(vs[0], vs[1], marker='.', s=250, c='m', edgecolors='k')\nplt.axis('tight')\nplt.xlabel('x [m]')\nplt.ylabel('y [m]')\nplt.title('Model and Geometry')\nplt.xlim(x[0], x[-1])\nplt.tight_layout()"
      ]
    },
    {
      "cell_type": "markdown",
      "metadata": {},
      "source": [
        "Let's now load and display the reflection response\n\n"
      ]
    },
    {
      "cell_type": "code",
      "execution_count": null,
      "metadata": {
        "collapsed": false
      },
      "outputs": [],
      "source": [
        "# Time axis\nt = inputdata['t'][:-100]\not, dt, nt = t[0], t[1]-t[0], len(t)\n\n# Reflection data (R[s, r, t])\nR = inputdata['R'][:, :, :-100]\nR = np.swapaxes(R, 0, 1) # just because of how the data was saved\nwav = inputdata['wav']\nwav_c = np.argmax(wav)\n\nfig, axs = plt.subplots(1, 3, sharey=True, figsize=(12, 7))\naxs[0].imshow(R[0].T, cmap='gray', vmin=-1e-2, vmax=1e-2,\n              extent=(r[0, 0], r[0, -1], t[-1], t[0]))\naxs[0].set_title('R shot=0')\naxs[0].set_xlabel(r'$x_R$')\naxs[0].set_ylabel(r'$t$')\naxs[0].axis('tight')\naxs[0].set_ylim(1.5, 0)\naxs[1].imshow(R[ns//2].T, cmap='gray', vmin=-1e-2, vmax=1e-2,\n              extent=(r[0, 0], r[0, -1], t[-1], t[0]))\naxs[1].set_title('R shot=%d' %(ns//2))\naxs[1].set_xlabel(r'$x_R$')\naxs[1].set_ylabel(r'$t$')\naxs[1].axis('tight')\naxs[1].set_ylim(1.5, 0)\naxs[2].imshow(R[-1].T, cmap='gray', vmin=-1e-2, vmax=1e-2,\n              extent=(r[0, 0], r[0, -1], t[-1], t[0]))\naxs[2].set_title('R shot=%d' %ns)\naxs[2].set_xlabel(r'$x_R$')\naxs[2].axis('tight')\naxs[2].set_ylim(1.5, 0)\nfig.tight_layout()"
      ]
    },
    {
      "cell_type": "markdown",
      "metadata": {},
      "source": [
        "Let's now create an object of the\n:py:class:`pylops.mme.MME` class and apply multiple elimination\nfor a single source.\n\n"
      ]
    },
    {
      "cell_type": "code",
      "execution_count": null,
      "metadata": {
        "collapsed": false
      },
      "outputs": [],
      "source": [
        "Rwav = R[ns//2].T\nRwav = np.apply_along_axis(convolve, 0, Rwav, wav, mode='full')\nRwav = Rwav[wav_c:][:nt]\n\nMarchenkoMME = MME(R, wav, wav_c, nt=nt, dt=dt, dr=dr,\n                   toff=toff, nsmooth=nsmooth)\n\nU_minus = MarchenkoMME.apply_onesrc(R[ns//2], ntmax=ntmax, n_iter=niter)"
      ]
    },
    {
      "cell_type": "markdown",
      "metadata": {},
      "source": [
        "We can now compare the original dataset with the demultipled one\n\n"
      ]
    },
    {
      "cell_type": "code",
      "execution_count": null,
      "metadata": {
        "collapsed": false
      },
      "outputs": [],
      "source": [
        "fig, axs = plt.subplots(1, 3, sharey=True, figsize=(12, 3))\naxs[0].imshow(Rwav[:ntmax], cmap='gray', vmin=-1e-1, vmax=1e-1,\n              extent=(r[0, 0], r[0, -1], t[ntmax], t[0]))\naxs[0].set_title(r'$R$')\naxs[0].set_xlabel(r'$x_R$')\naxs[0].set_ylabel(r'$t$')\naxs[0].axis('tight')\naxs[1].imshow(U_minus[:, :ntmax].T, cmap='gray', vmin=-1e-1, vmax=1e-1,\n              extent=(r[0, 0], r[0, -1], t[ntmax], t[0]))\naxs[1].set_title(r'$R_{TMME}$')\naxs[1].set_xlabel(r'$x_R$')\naxs[1].axis('tight')\naxs[2].imshow(Rwav[:ntmax] - U_minus[:, :ntmax].T,\n              cmap='gray', vmin=-1e-1, vmax=1e-1,\n              extent=(r[0, 0], r[0, -1], t[ntmax], t[0]))\naxs[2].set_title(r'$Diff.$')\naxs[2].set_xlabel(r'$x_R$')\naxs[2].axis('tight')\nfig.tight_layout()"
      ]
    }
  ],
  "metadata": {
    "kernelspec": {
      "display_name": "Python 3",
      "language": "python",
      "name": "python3"
    },
    "language_info": {
      "codemirror_mode": {
        "name": "ipython",
        "version": 3
      },
      "file_extension": ".py",
      "mimetype": "text/x-python",
      "name": "python",
      "nbconvert_exporter": "python",
      "pygments_lexer": "ipython3",
      "version": "3.9.18"
    }
  },
  "nbformat": 4,
  "nbformat_minor": 0
}