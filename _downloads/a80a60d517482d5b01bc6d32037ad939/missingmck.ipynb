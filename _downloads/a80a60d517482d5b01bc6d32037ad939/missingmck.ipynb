{
  "cells": [
    {
      "cell_type": "markdown",
      "metadata": {},
      "source": [
        "\n# 3. Marchenko redatuming with missing sources\nThis example shows how the :py:class:`pymarchenko.marchenko.Marchenko`\nroutine can handle acquisition geometries with missing sources. We will first\nsee that using least-squares inversion leads to retrieving focusing functions\nthat present gaps due to the missing sources. We further leverage sparsity-\npromoting inversion and show that focusing functions can be retrieved that are\nalmost of the same quality as those constructed with the full acquisition\ngeometry.\n"
      ]
    },
    {
      "cell_type": "code",
      "execution_count": null,
      "metadata": {
        "collapsed": false
      },
      "outputs": [],
      "source": [
        "# sphinx_gallery_thumbnail_number = 5\n# pylint: disable=C0103\nimport warnings\nimport time\nimport numpy as np\nimport matplotlib.pyplot as plt\n\nfrom scipy.signal import convolve\nfrom pylops.basicoperators import Transpose\nfrom pylops.signalprocessing import Radon2D, Sliding2D\nfrom pylops.waveeqprocessing import MDD\nfrom pylops.waveeqprocessing.marchenko import directwave\nfrom pylops.utils.tapers import taper3d\nfrom pymarchenko.marchenko import Marchenko\n\nwarnings.filterwarnings('ignore')\nplt.close('all')\nnp.random.seed(10)"
      ]
    },
    {
      "cell_type": "markdown",
      "metadata": {},
      "source": [
        "Let's start by defining some input parameters and loading the geometry\n\n"
      ]
    },
    {
      "cell_type": "code",
      "execution_count": null,
      "metadata": {
        "collapsed": false
      },
      "outputs": [],
      "source": [
        "# Input parameters\ninputfile = '../testdata/marchenko/input.npz'\n\nvel = 2400.0         # velocity\ntoff = 0.045         # direct arrival time shift\nnsmooth = 10         # time window smoothing\nnfmax = 500          # max frequency for MDC (#samples)\nnstaper = 11         # source/receiver taper lenght\nniter = 10           # iterations\n\ninputdata = np.load(inputfile)\n\n# Receivers\nr = inputdata['r']\nnr = r.shape[1]\ndr = r[0, 1]-r[0, 0]\n\n# Sources\ns = inputdata['s']\nns = s.shape[1]\nds = s[0, 1]-s[0, 0]\n\n# Virtual points\nvs = inputdata['vs']\n\n# Density model\nrho = inputdata['rho']\nz, x = inputdata['z'], inputdata['x']\n\nplt.figure(figsize=(10, 5))\nplt.imshow(rho, cmap='gray', extent=(x[0], x[-1], z[-1], z[0]))\nplt.scatter(s[0, 5::10], s[1, 5::10], marker='*', s=150, c='r', edgecolors='k')\nplt.scatter(r[0, ::10], r[1, ::10], marker='v', s=150, c='b', edgecolors='k')\nplt.scatter(vs[0], vs[1], marker='.', s=250, c='m', edgecolors='k')\nplt.axis('tight')\nplt.xlabel('x [m]')\nplt.ylabel('y [m]')\nplt.title('Model and Geometry')\nplt.xlim(x[0], x[-1])\nplt.tight_layout()"
      ]
    },
    {
      "cell_type": "markdown",
      "metadata": {},
      "source": [
        "Let's now load and display the reflection response\n\n"
      ]
    },
    {
      "cell_type": "code",
      "execution_count": null,
      "metadata": {
        "collapsed": false
      },
      "outputs": [],
      "source": [
        "# Time axis\nt = inputdata['t'][:-100]\not, dt, nt = t[0], t[1]-t[0], len(t)\nt2 = np.concatenate([-t[::-1], t[1:]])\nnt2 = 2 * nt - 1\n\n# Reflection data (R[s, r, t]) and subsurface fields\nR = inputdata['R'][:, :, :-100]\nR = np.swapaxes(R, 0, 1) # just because of how the data was saved\ntaper = taper3d(nt, [ns, nr], [nstaper, nstaper], tapertype='hanning')\nR = R * taper\n\nfig, axs = plt.subplots(1, 3, sharey=True, figsize=(12, 7))\naxs[0].imshow(R[20].T, cmap='gray', vmin=-1e-2, vmax=1e-2,\n              extent=(r[0, 0], r[0, -1], t[-1], t[0]))\naxs[0].set_title('R shot=20')\naxs[0].set_xlabel(r'$x_R$')\naxs[0].set_ylabel(r'$t$')\naxs[0].axis('tight')\naxs[0].set_ylim(1.5, 0)\naxs[1].imshow(R[ns//2].T, cmap='gray', vmin=-1e-2, vmax=1e-2,\n              extent=(r[0, 0], r[0, -1], t[-1], t[0]))\naxs[1].set_title('R shot=%d' %(ns//2))\naxs[1].set_xlabel(r'$x_R$')\naxs[1].set_ylabel(r'$t$')\naxs[1].axis('tight')\naxs[1].set_ylim(1.5, 0)\naxs[2].imshow(R[ns-20].T, cmap='gray', vmin=-1e-2, vmax=1e-2,\n              extent=(r[0, 0], r[0, -1], t[-1], t[0]))\naxs[2].set_title('R shot=%d' %(ns-20))\naxs[2].set_xlabel(r'$x_R$')\naxs[2].axis('tight')\naxs[2].set_ylim(1.5, 0)\nfig.tight_layout()"
      ]
    },
    {
      "cell_type": "markdown",
      "metadata": {},
      "source": [
        "and the true and background subsurface fields\n\n"
      ]
    },
    {
      "cell_type": "code",
      "execution_count": null,
      "metadata": {
        "collapsed": false
      },
      "outputs": [],
      "source": [
        "# Subsurface fields\nGsub = inputdata['Gsub'][:-100]\nG0sub = inputdata['G0sub'][:-100]\nwav = inputdata['wav']\nwav_c = np.argmax(wav)\n\nGsub = np.apply_along_axis(convolve, 0, Gsub, wav, mode='full')\nGsub = Gsub[wav_c:][:nt]\nG0sub = np.apply_along_axis(convolve, 0, G0sub, wav, mode='full')\nG0sub = G0sub[wav_c:][:nt]\n\nfig, axs = plt.subplots(1, 2, sharey=True, figsize=(8, 6))\naxs[0].imshow(Gsub, cmap='gray', vmin=-1e6, vmax=1e6,\n              extent=(r[0, 0], r[0, -1], t[-1], t[0]))\naxs[0].set_title('G')\naxs[0].set_xlabel(r'$x_R$')\naxs[0].set_ylabel(r'$t$')\naxs[0].axis('tight')\naxs[0].set_ylim(1.5, 0)\naxs[1].imshow(G0sub, cmap='gray', vmin=-1e6, vmax=1e6,\n              extent=(r[0, 0], r[0, -1], t[-1], t[0]))\naxs[1].set_title('G0')\naxs[1].set_xlabel(r'$x_R$')\naxs[1].set_ylabel(r'$t$')\naxs[1].axis('tight')\naxs[1].set_ylim(1.5, 0)\nfig.tight_layout()"
      ]
    },
    {
      "cell_type": "markdown",
      "metadata": {},
      "source": [
        "First, we use the entire data and create our benchmark solution by means of\nleast-squares inversion\n\n"
      ]
    },
    {
      "cell_type": "code",
      "execution_count": null,
      "metadata": {
        "collapsed": false
      },
      "outputs": [],
      "source": [
        "# Direct arrival traveltime\ntrav = np.sqrt((vs[0]-r[0])**2+(vs[1]-r[1])**2)/vel\n\nMarchenkoWM = Marchenko(R, dt=dt, dr=dr, nfmax=nfmax, wav=wav,\n                        toff=toff, nsmooth=nsmooth)\n\nf1_inv_minus, f1_inv_plus, p0_minus, g_inv_minus, g_inv_plus = \\\n    MarchenkoWM.apply_onepoint(trav, G0=G0sub.T, rtm=True, greens=True,\n                               dottest=True, **dict(iter_lim=niter, show=True))\ng_inv_tot = g_inv_minus + g_inv_plus"
      ]
    },
    {
      "cell_type": "markdown",
      "metadata": {},
      "source": [
        "Second, we define the available sources (60% of the original array randomly\nselected) and perform least-squares inversion\n\n"
      ]
    },
    {
      "cell_type": "code",
      "execution_count": null,
      "metadata": {
        "collapsed": false
      },
      "outputs": [],
      "source": [
        "# Subsampling\nperc_subsampling=0.6\nnsava = int(np.round(ns*perc_subsampling))\nishuffle = np.random.permutation(np.arange(ns))\niava = np.sort(ishuffle[:nsava])\ninotava = np.sort(ishuffle[nsava:])\n\nMarchenkoWM = Marchenko(R[iava], dt=dt, dr=dr, nfmax=nfmax, wav=wav,\n                        toff=toff, nsmooth=nsmooth, isava=iava)\n\nf1_inv_minus_ls, f1_inv_plus_ls, p0_minus_ls, g_inv_minus_ls, g_inv_plus_ls = \\\n    MarchenkoWM.apply_onepoint(trav, G0=G0sub.T, rtm=True,\n                               greens=True, dottest=False,\n                               **dict(iter_lim=niter, show=True))\ng_inv_tot_ls = g_inv_minus_ls + g_inv_plus_ls"
      ]
    },
    {
      "cell_type": "markdown",
      "metadata": {},
      "source": [
        "Finally, we define a sparsifying transform and set up the inversion using\na sparsity promoting solver like :func:`pylops.optimization.sparsity.FISTA`\n\n"
      ]
    },
    {
      "cell_type": "code",
      "execution_count": null,
      "metadata": {
        "collapsed": false
      },
      "outputs": [],
      "source": [
        "# Sliding Radon as sparsifying transform\nnwin = 25\nnwins = 6\nnover = 10\nnpx = 101\npxmax = 1e-3\npx = np.linspace(-pxmax, pxmax, npx)\ndimsd = (nr, nt2)\ndimss = (nwins*npx, dimsd[1])\n\nTop = Transpose((nt2, nr), axes=(1, 0), dtype=np.float64)\nRadOp = Radon2D(t2, np.linspace(-dr*nwin//2, dr*nwin//2, nwin),\n                px, centeredh=True, kind='linear', engine='numba')\nSlidop = Sliding2D(RadOp, dimss, dimsd, nwin, nover, tapertype='cosine')\n\nMarchenkoWM = Marchenko(R[iava], dt=dt, dr=dr, nfmax=nfmax, wav=wav,\n                        toff=toff, nsmooth=nsmooth, isava=iava,\n                        S=Top.H*Slidop)\n\nf1_inv_minus_l1, f1_inv_plus_l1, p0_minus_l1, g_inv_minus_l1, g_inv_plus_l1 = \\\n    MarchenkoWM.apply_onepoint(trav, G0=G0sub.T, rtm=True,\n                               greens=True, dottest=False,\n                               **dict(eps=1e4, niter=400,\n                                      alpha=1.05e-3,\n                                      show=True))\ng_inv_tot_l1 = g_inv_minus_l1 + g_inv_plus_l1"
      ]
    },
    {
      "cell_type": "markdown",
      "metadata": {},
      "source": [
        "Let's now compare the three solutions starting from the focusing functions\n\n"
      ]
    },
    {
      "cell_type": "code",
      "execution_count": null,
      "metadata": {
        "collapsed": false
      },
      "outputs": [],
      "source": [
        "fig, axs = plt.subplots(2, 3, sharey=True, figsize=(14, 12))\naxs[0][0].imshow(f1_inv_minus.T, cmap='gray', vmin=-5e5, vmax=5e5,\n                 extent=(r[0, 0], r[0, -1], t2[-1], t2[0]))\naxs[0][0].set_title(r'$f^-$')\naxs[0][0].axis('tight')\naxs[0][0].set_ylim(1, -1)\naxs[0][1].imshow(f1_inv_minus_ls.T, cmap='gray', vmin=-5e5, vmax=5e5,\n                 extent=(r[0, 0], r[0, -1], t2[-1], t2[0]))\naxs[0][1].set_title(r'$f^- L2$')\naxs[0][1].axis('tight')\naxs[0][1].set_ylim(1, -1)\naxs[0][2].imshow(f1_inv_minus_l1.T, cmap='gray', vmin=-5e5, vmax=5e5,\n                 extent=(r[0, 0], r[0, -1], t2[-1], t2[0]))\naxs[0][2].set_title(r'$f^- L1$')\naxs[0][2].axis('tight')\naxs[0][2].set_ylim(1, -1)\naxs[1][0].imshow(f1_inv_plus.T, cmap='gray', vmin=-5e5, vmax=5e5,\n                 extent=(r[0, 0], r[0, -1], t2[-1], t2[0]))\naxs[1][0].set_title(r'$f^+$')\naxs[1][0].axis('tight')\naxs[1][0].set_ylim(1, -1)\naxs[1][1].imshow(f1_inv_plus_ls.T, cmap='gray', vmin=-5e5, vmax=5e5,\n                 extent=(r[0, 0], r[0, -1], t2[-1], t2[0]))\naxs[1][1].set_title(r'$f^+ L2$')\naxs[1][1].axis('tight')\naxs[1][1].set_ylim(1, -1)\naxs[1][2].imshow(f1_inv_plus_l1.T, cmap='gray', vmin=-5e5, vmax=5e5,\n                 extent=(r[0, 0], r[0, -1], t2[-1], t2[0]))\naxs[1][2].set_title(r'$f^- L1$')\naxs[1][2].axis('tight')\naxs[1][2].set_ylim(1, -1)\nfig.tight_layout()"
      ]
    },
    {
      "cell_type": "markdown",
      "metadata": {},
      "source": [
        "and the up- and down- Green's functions\n\n"
      ]
    },
    {
      "cell_type": "code",
      "execution_count": null,
      "metadata": {
        "collapsed": false
      },
      "outputs": [],
      "source": [
        "fig, axs = plt.subplots(2, 3, sharey=True, figsize=(14, 12))\naxs[0][0].imshow(g_inv_minus[iava, :].T, cmap='gray', vmin=-5e5, vmax=5e5,\n                 extent=(r[0, 0], r[0, -1], t2[-1], t2[0]))\naxs[0][0].set_title(r'$g^-$')\naxs[0][0].axis('tight')\naxs[0][0].set_ylim(1.2, 0)\naxs[0][1].imshow(g_inv_minus_ls.T, cmap='gray', vmin=-5e5, vmax=5e5,\n                 extent=(r[0, 0], r[0, -1], t2[-1], t2[0]))\naxs[0][1].set_title(r'$g^- L2$')\naxs[0][1].axis('tight')\naxs[0][1].set_ylim(1.2, 0)\naxs[0][2].imshow(g_inv_minus_l1.T, cmap='gray', vmin=-5e5, vmax=5e5,\n                 extent=(r[0, 0], r[0, -1], t2[-1], t2[0]))\naxs[0][2].set_title(r'$g^- L1$')\naxs[0][2].axis('tight')\naxs[0][2].set_ylim(1.2, 0)\naxs[1][0].imshow(g_inv_plus[iava, :].T, cmap='gray', vmin=-5e5, vmax=5e5,\n                 extent=(r[0, 0], r[0, -1], t2[-1], t2[0]))\naxs[1][0].set_title(r'$g^+$')\naxs[1][0].axis('tight')\naxs[1][0].set_ylim(1.2, 0)\naxs[1][1].imshow(g_inv_plus_ls.T, cmap='gray', vmin=-5e5, vmax=5e5,\n                 extent=(r[0, 0], r[0, -1], t2[-1], t2[0]))\naxs[1][1].set_title(r'$g^+ L2$')\naxs[1][1].axis('tight')\naxs[1][1].set_ylim(1.2, 0)\naxs[1][2].imshow(g_inv_plus_l1.T, cmap='gray', vmin=-5e5, vmax=5e5,\n                 extent=(r[0, 0], r[0, -1], t2[-1], t2[0]))\naxs[1][2].set_title(r'$g^- L1$')\naxs[1][2].axis('tight')\naxs[1][2].set_ylim(1.2, 0)\nfig.tight_layout()"
      ]
    },
    {
      "cell_type": "markdown",
      "metadata": {},
      "source": [
        "and finally the total Green's functions\n\n"
      ]
    },
    {
      "cell_type": "code",
      "execution_count": null,
      "metadata": {
        "collapsed": false
      },
      "outputs": [],
      "source": [
        "fig = plt.figure(figsize=(18,9))\nax1 = plt.subplot2grid((1, 7), (0, 0), colspan=2)\nax2 = plt.subplot2grid((1, 7), (0, 2), colspan=2)\nax3 = plt.subplot2grid((1, 7), (0, 4), colspan=2)\nax4 = plt.subplot2grid((1, 7), (0, 6))\n\nax1.imshow(Gsub[:, iava], cmap='gray', vmin=-5e5, vmax=5e5,\n           extent=(r[0,0], r[0,-1], t[-1], t[0]))\nax1.set_title(r'$G_{true}$')\nax1.set_xlabel(r'$x_R$')\nax1.set_ylabel(r'$t$')\nax1.axis('tight')\nax1.set_ylim(1.2, 0)\nax2.imshow(g_inv_tot_ls.T, cmap='gray', vmin=-5e5, vmax=5e5,\n           extent=(r[0,0], r[0,-1], t2[-1], t2[0]))\nax2.set_title(r'$G_{est} L2$')\nax2.set_xlabel(r'$x_R$')\nax2.axis('tight')\nax2.set_ylim(1.2, 0)\nax3.imshow(g_inv_tot_l1.T, cmap='gray', vmin=-5e5, vmax=5e5,\n           extent=(r[0,0], r[0,-1], t2[-1], t2[0]))\nax3.set_title(r'$G_{est}$ L1 radon')\nax3.set_xlabel(r'$x_R$')\nax3.axis('tight')\nax3.set_ylim(1.2, 0)\nax4.plot(t**2*Gsub[:, iava][:, nr//4]/Gsub.max(), t, 'k', lw=7, label='True')\nax4.plot(t**2*g_inv_tot[iava][nr//4, nt-1:]/g_inv_tot.max(), t, 'r', lw=5, label='Full')\nax4.plot(t**2*g_inv_tot_ls[nr//4, nt-1:]/g_inv_tot.max(), t, 'b', lw=3, label='L2')\nax4.plot(t**2*g_inv_tot_l1[nr//4, nt-1:]/g_inv_tot.max(), t, '--g', lw=3, label='L1')\nax4.set_ylim(1.2, 0)\nax4.legend()\nfig.tight_layout()"
      ]
    }
  ],
  "metadata": {
    "kernelspec": {
      "display_name": "Python 3",
      "language": "python",
      "name": "python3"
    },
    "language_info": {
      "codemirror_mode": {
        "name": "ipython",
        "version": 3
      },
      "file_extension": ".py",
      "mimetype": "text/x-python",
      "name": "python",
      "nbconvert_exporter": "python",
      "pygments_lexer": "ipython3",
      "version": "3.9.18"
    }
  },
  "nbformat": 4,
  "nbformat_minor": 0
}