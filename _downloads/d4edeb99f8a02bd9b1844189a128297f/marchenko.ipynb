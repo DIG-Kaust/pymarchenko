{
  "cells": [
    {
      "cell_type": "markdown",
      "metadata": {},
      "source": [
        "\n# 2. Marchenko redatuming by inversion\nThis example is an extended version of the original tutorial from the PyLops\ndocumentation and shows how to set-up and run the\n:py:class:`pymarchenko.marchenko.Marchenko` inversion using synthetic data\nfor both single and multiple virtual points.\n"
      ]
    },
    {
      "cell_type": "code",
      "execution_count": null,
      "metadata": {
        "collapsed": false
      },
      "outputs": [],
      "source": [
        "# sphinx_gallery_thumbnail_number = 5\n# pylint: disable=C0103\nimport warnings\nimport time\nimport numpy as np\nimport matplotlib.pyplot as plt\n\nfrom scipy.signal import convolve\nfrom pylops.waveeqprocessing import MDD\nfrom pylops.waveeqprocessing.marchenko import directwave\nfrom pylops.utils.tapers import taper3d\nfrom pymarchenko.marchenko import Marchenko\n\nwarnings.filterwarnings('ignore')\nplt.close('all')"
      ]
    },
    {
      "cell_type": "markdown",
      "metadata": {},
      "source": [
        "Let's start by defining some input parameters and loading the geometry\n\n"
      ]
    },
    {
      "cell_type": "code",
      "execution_count": null,
      "metadata": {
        "collapsed": false
      },
      "outputs": [],
      "source": [
        "# Input parameters\ninputfile = '../testdata/marchenko/input.npz'\n\nvel = 2400.0         # velocity\ntoff = 0.045         # direct arrival time shift\nnsmooth = 10         # time window smoothing\nnfmax = 500          # max frequency for MDC (#samples)\nnstaper = 11         # source/receiver taper lenght\nniter = 10           # iterations\n\ninputdata = np.load(inputfile)\n\n# Receivers\nr = inputdata['r']\nnr = r.shape[1]\ndr = r[0, 1]-r[0, 0]\n\n# Sources\ns = inputdata['s']\nns = s.shape[1]\nds = s[0, 1]-s[0, 0]\n\n# Virtual points\nvs = inputdata['vs']\n\n# Density model\nrho = inputdata['rho']\nz, x = inputdata['z'], inputdata['x']\n\nplt.figure(figsize=(10, 5))\nplt.imshow(rho, cmap='gray', extent=(x[0], x[-1], z[-1], z[0]))\nplt.scatter(s[0, 5::10], s[1, 5::10], marker='*', s=150, c='r', edgecolors='k')\nplt.scatter(r[0, ::10], r[1, ::10], marker='v', s=150, c='b', edgecolors='k')\nplt.scatter(vs[0], vs[1], marker='.', s=250, c='m', edgecolors='k')\nplt.axis('tight')\nplt.xlabel('x [m]')\nplt.ylabel('y [m]')\nplt.title('Model and Geometry')\nplt.xlim(x[0], x[-1])\nplt.tight_layout()"
      ]
    },
    {
      "cell_type": "markdown",
      "metadata": {},
      "source": [
        "Let's now load and display the reflection response\n\n"
      ]
    },
    {
      "cell_type": "code",
      "execution_count": null,
      "metadata": {
        "collapsed": false
      },
      "outputs": [],
      "source": [
        "# Time axis\nt = inputdata['t'][:-100]\not, dt, nt = t[0], t[1]-t[0], len(t)\n\n# Reflection data (R[s, r, t]) and subsurface fields\nR = inputdata['R'][:, :, :-100]\nR = np.swapaxes(R, 0, 1) # just because of how the data was saved\ntaper = taper3d(nt, [ns, nr], [nstaper, nstaper], tapertype='hanning')\nR = R * taper\n\nfig, axs = plt.subplots(1, 3, sharey=True, figsize=(12, 7))\naxs[0].imshow(R[20].T, cmap='gray', vmin=-1e-2, vmax=1e-2,\n              extent=(r[0, 0], r[0, -1], t[-1], t[0]))\naxs[0].set_title('R shot=20')\naxs[0].set_xlabel(r'$x_R$')\naxs[0].set_ylabel(r'$t$')\naxs[0].axis('tight')\naxs[0].set_ylim(1.5, 0)\naxs[1].imshow(R[ns//2].T, cmap='gray', vmin=-1e-2, vmax=1e-2,\n              extent=(r[0, 0], r[0, -1], t[-1], t[0]))\naxs[1].set_title('R shot=%d' %(ns//2))\naxs[1].set_xlabel(r'$x_R$')\naxs[1].set_ylabel(r'$t$')\naxs[1].axis('tight')\naxs[1].set_ylim(1.5, 0)\naxs[2].imshow(R[ns-20].T, cmap='gray', vmin=-1e-2, vmax=1e-2,\n              extent=(r[0, 0], r[0, -1], t[-1], t[0]))\naxs[2].set_title('R shot=%d' %(ns-20))\naxs[2].set_xlabel(r'$x_R$')\naxs[2].axis('tight')\naxs[2].set_ylim(1.5, 0)\nfig.tight_layout()"
      ]
    },
    {
      "cell_type": "markdown",
      "metadata": {},
      "source": [
        "and the true and background subsurface fields\n\n"
      ]
    },
    {
      "cell_type": "code",
      "execution_count": null,
      "metadata": {
        "collapsed": false
      },
      "outputs": [],
      "source": [
        "# Subsurface fields\nGsub = inputdata['Gsub'][:-100]\nG0sub = inputdata['G0sub'][:-100]\nwav = inputdata['wav']\nwav_c = np.argmax(wav)\n\nGsub = np.apply_along_axis(convolve, 0, Gsub, wav, mode='full')\nGsub = Gsub[wav_c:][:nt]\nG0sub = np.apply_along_axis(convolve, 0, G0sub, wav, mode='full')\nG0sub = G0sub[wav_c:][:nt]\n\nfig, axs = plt.subplots(1, 2, sharey=True, figsize=(8, 6))\naxs[0].imshow(Gsub, cmap='gray', vmin=-1e6, vmax=1e6,\n              extent=(r[0, 0], r[0, -1], t[-1], t[0]))\naxs[0].set_title('G')\naxs[0].set_xlabel(r'$x_R$')\naxs[0].set_ylabel(r'$t$')\naxs[0].axis('tight')\naxs[0].set_ylim(1.5, 0)\naxs[1].imshow(G0sub, cmap='gray', vmin=-1e6, vmax=1e6,\n              extent=(r[0, 0], r[0, -1], t[-1], t[0]))\naxs[1].set_title('G0')\naxs[1].set_xlabel(r'$x_R$')\naxs[1].set_ylabel(r'$t$')\naxs[1].axis('tight')\naxs[1].set_ylim(1.5, 0)\nfig.tight_layout()"
      ]
    },
    {
      "cell_type": "markdown",
      "metadata": {},
      "source": [
        "Let's now create an object of the\n:py:class:`pymarchenko.marchenko.Marchenko` class and apply redatuming\nfor a single subsurface point ``vs``.\n\n"
      ]
    },
    {
      "cell_type": "code",
      "execution_count": null,
      "metadata": {
        "collapsed": false
      },
      "outputs": [],
      "source": [
        "# Direct arrival traveltime\ntrav = np.sqrt((vs[0]-r[0])**2+(vs[1]-r[1])**2)/vel\n\nMarchenkoWM = Marchenko(R, dt=dt, dr=dr, nfmax=nfmax, wav=wav,\n                        toff=toff, nsmooth=nsmooth)\n\nt0 = time.time()\nf1_inv_minus, f1_inv_plus, p0_minus, g_inv_minus, g_inv_plus = \\\n    MarchenkoWM.apply_onepoint(trav, G0=G0sub.T, rtm=True, greens=True,\n                               dottest=True, **dict(iter_lim=niter, show=True))\ng_inv_tot = g_inv_minus + g_inv_plus\ntone = time.time() - t0\nprint('Elapsed time (s): %.2f' % tone)"
      ]
    },
    {
      "cell_type": "markdown",
      "metadata": {},
      "source": [
        "We can now compare the result of Marchenko redatuming via LSQR\nwith standard redatuming\n\n"
      ]
    },
    {
      "cell_type": "code",
      "execution_count": null,
      "metadata": {
        "collapsed": false
      },
      "outputs": [],
      "source": [
        "fig, axs = plt.subplots(1, 3, sharey=True, figsize=(12, 7))\naxs[0].imshow(p0_minus.T, cmap='gray', vmin=-5e5, vmax=5e5,\n              extent=(r[0, 0], r[0, -1], t[-1], -t[-1]))\naxs[0].set_title(r'$p_0^-$')\naxs[0].set_xlabel(r'$x_R$')\naxs[0].set_ylabel(r'$t$')\naxs[0].axis('tight')\naxs[0].set_ylim(1.2, 0)\naxs[1].imshow(g_inv_minus.T, cmap='gray', vmin=-5e5, vmax=5e5,\n              extent=(r[0, 0], r[0, -1], t[-1], -t[-1]))\naxs[1].set_title(r'$g^-$')\naxs[1].set_xlabel(r'$x_R$')\naxs[1].set_ylabel(r'$t$')\naxs[1].axis('tight')\naxs[1].set_ylim(1.2, 0)\naxs[2].imshow(g_inv_plus.T, cmap='gray', vmin=-5e5, vmax=5e5,\n              extent=(r[0, 0], r[0, -1], t[-1], -t[-1]))\naxs[2].set_title(r'$g^+$')\naxs[2].set_xlabel(r'$x_R$')\naxs[2].set_ylabel(r'$t$')\naxs[2].axis('tight')\naxs[2].set_ylim(1.2, 0)\nfig.tight_layout()"
      ]
    },
    {
      "cell_type": "markdown",
      "metadata": {},
      "source": [
        "and compare the total Green's function with the directly modelled one\n\n"
      ]
    },
    {
      "cell_type": "code",
      "execution_count": null,
      "metadata": {
        "collapsed": false
      },
      "outputs": [],
      "source": [
        "fig = plt.figure(figsize=(12, 7))\nax1 = plt.subplot2grid((1, 5), (0, 0), colspan=2)\nax2 = plt.subplot2grid((1, 5), (0, 2), colspan=2)\nax3 = plt.subplot2grid((1, 5), (0, 4))\nax1.imshow(Gsub, cmap='gray', vmin=-5e5, vmax=5e5,\n           extent=(r[0, 0], r[0, -1], t[-1], t[0]))\nax1.set_title(r'$G_{true}$')\naxs[0].set_xlabel(r'$x_R$')\naxs[0].set_ylabel(r'$t$')\nax1.axis('tight')\nax1.set_ylim(1.2, 0)\nax2.imshow(g_inv_tot.T, cmap='gray', vmin=-5e5, vmax=5e5,\n           extent=(r[0, 0], r[0, -1], t[-1], -t[-1]))\nax2.set_title(r'$G_{est}$')\naxs[1].set_xlabel(r'$x_R$')\naxs[1].set_ylabel(r'$t$')\nax2.axis('tight')\nax2.set_ylim(1.2, 0)\nax3.plot(Gsub[:, nr//2]/Gsub.max(), t, 'r', lw=5)\nax3.plot(g_inv_tot[nr//2, nt-1:]/g_inv_tot.max(), t, 'k', lw=3)\nax3.set_ylim(1.2, 0)\nfig.tight_layout()"
      ]
    },
    {
      "cell_type": "markdown",
      "metadata": {},
      "source": [
        "Finally, we show that when interested in creating subsurface wavefields\nfor a group of subsurface points the\n:py:func:`pymarchenko.marchenko..Marchenko.apply_multiplepoints` should be\nused instead of\n:py:func:`pymarchenko.marchenko..Marchenko.apply_onepoint`.\n\n"
      ]
    },
    {
      "cell_type": "code",
      "execution_count": null,
      "metadata": {
        "collapsed": false
      },
      "outputs": [],
      "source": [
        "nvs = 51\ndvsx = 20\nvs = [np.arange(nvs)*dvsx + 1000, np.ones(nvs)*1060]\n\nplt.figure(figsize=(18, 9))\nplt.imshow(rho, cmap='gray', extent = (x[0], x[-1], z[-1], z[0]))\nplt.scatter(s[0, 5::10], s[1, 5::10], marker='*', s=150, c='r', edgecolors='k')\nplt.scatter(r[0, ::10],  r[1, ::10], marker='v', s=150, c='b', edgecolors='k')\nplt.scatter(vs[0], vs[1], marker='.', s=250, c='m', edgecolors='k')\nplt.axis('tight')\nplt.xlabel('x [m]'),plt.ylabel('y [m]'),plt.title('Model and Geometry')\nplt.xlim(x[0], x[-1])"
      ]
    },
    {
      "cell_type": "markdown",
      "metadata": {},
      "source": [
        "We now compute the direct arrival traveltime table and run inversion\n\n"
      ]
    },
    {
      "cell_type": "code",
      "execution_count": null,
      "metadata": {
        "collapsed": false
      },
      "outputs": [],
      "source": [
        "# Direct arrival traveltime\ntrav = np.sqrt((vs[0]-r[0][:, np.newaxis])**2 +\n               (vs[1]-r[1][:, np.newaxis])**2)/vel\n\n# Inversion\nMarchenkoWM = Marchenko(R, dt=dt, dr=dr, nfmax=nfmax, wav=wav,\n                        toff=toff, nsmooth=nsmooth)\n\nt0 = time.time()\nf1_inv_minus, f1_inv_plus, p0_minus, g_inv_minus, g_inv_plus = \\\n    MarchenkoWM.apply_multiplepoints(trav, nfft=2**11, rtm=True,\n                                     greens=True, dottest=False,\n                                     **dict(iter_lim=niter, show=True))\ng_inv_tot = g_inv_minus + g_inv_plus\ntmulti = time.time() - t0\nprint('Elapsed time (s): %.2f' % tmulti)\n\nfig, axs = plt.subplots(5, 1, figsize=(16, 22))\naxs[0].imshow(np.swapaxes(p0_minus, 0, 1).reshape(nr*nvs, 2*nt-1).T, cmap='gray',\n              vmin=-5e-1, vmax=5e-1, extent=(0, nr*nvs, t[-1], -t[-1]))\naxs[0].set_title(r'$p_0^-$')\naxs[0].set_xlabel(r'$x_R$')\naxs[0].set_ylabel(r'$t$')\naxs[0].axis('tight')\naxs[0].set_ylim(1, -1)\naxs[1].imshow(np.swapaxes(f1_inv_minus, 0, 1).reshape(nr*nvs,2*nt-1).T,\n              cmap='gray', vmin=-5e-1, vmax=5e-1,\n              extent=(0, nr*nvs, t[-1], -t[-1]))\naxs[1].set_title(r'$f^-$')\naxs[1].set_xlabel(r'$x_R$')\naxs[1].axis('tight')\naxs[1].set_ylim(1, -1)\naxs[2].imshow(np.swapaxes(f1_inv_plus, 0, 1).reshape(nr*nvs,2*nt-1).T,\n              cmap='gray', vmin=-5e-1, vmax=5e-1,\n              extent=(0, nr*nvs, t[-1], -t[-1]))\naxs[2].set_title(r'$f^+$')\naxs[2].set_xlabel(r'$x_R$')\naxs[2].axis('tight')\naxs[2].set_ylim(1, -1)\naxs[3].imshow(np.swapaxes(g_inv_minus, 0, 1).reshape(nr*nvs,2*nt-1).T,\n              cmap='gray', vmin=-5e-1, vmax=5e-1,\n              extent=(0, nr*nvs, t[-1], -t[-1]))\naxs[3].set_title(r'$g^-$')\naxs[3].set_xlabel(r'$x_R$')\naxs[3].axis('tight')\naxs[3].set_ylim(1.5, 0)\naxs[4].imshow(np.swapaxes(g_inv_plus, 0, 1).reshape(nr*nvs,2*nt-1).T,\n              cmap='gray', vmin=-5e-1, vmax=5e-1,\n              extent=(0, nr*nvs, t[-1], -t[-1]))\naxs[4].set_title(r'$g^+$')\naxs[4].set_xlabel(r'$x_R$')\naxs[4].axis('tight')\naxs[4].set_ylim(1.5, 0)\nfig.tight_layout()"
      ]
    },
    {
      "cell_type": "markdown",
      "metadata": {},
      "source": [
        "Let's evaluate how faster is to actually use\n:py:func:`pymarchenko.marchenko..Marchenko.apply_multiplepoints`\ninstead of repeatedly applying\n:py:func:`pymarchenko.marchenko..Marchenko.apply_onepoint`.\n\n"
      ]
    },
    {
      "cell_type": "code",
      "execution_count": null,
      "metadata": {
        "collapsed": false
      },
      "outputs": [],
      "source": [
        "print('Speedup between single and multi: %.2f' % ((tone * nvs) / tmulti))"
      ]
    },
    {
      "cell_type": "markdown",
      "metadata": {},
      "source": [
        "Finally we can take this example one step further and try to recover the\nlocal reflectivity at the depth level of the virtual sources using\n:py:func:`pylops.waveeqprocessing.mdd.MDD`.\n\n"
      ]
    },
    {
      "cell_type": "code",
      "execution_count": null,
      "metadata": {
        "collapsed": false
      },
      "outputs": [],
      "source": [
        "# Taper gplus\ntap = taper3d(2*nt-1, (nr, nvs), (1, 5))\ng_inv_plus *= tap\n\n# Direct wave\nG0sub = np.zeros((nr, nvs, nt))\nfor ivs in range(nvs):\n    G0sub[:, ivs] = directwave(wav, trav[:,ivs], nt, dt,\n                               nfft=int(2**(np.ceil(np.log2(nt))))).T\n\n# MDD\n_, Rrtm = MDD(G0sub, p0_minus[:, :, nt-1:],\n              dt=dt, dr=dvsx, twosided=True, adjoint=True,\n              psf=False, wav=wav[wav_c-60:wav_c+60],\n              nfmax=nfmax, dottest=False,\n              **dict(iter_lim=0, show=0))\n\nRmck = MDD(g_inv_plus[:, :, nt-1:], g_inv_minus[:, :, nt-1:],\n           dt=dt, dr=dvsx, twosided=True, adjoint=False, psf=False,\n           nfmax=nfmax, dottest=False,\n           **dict(iter_lim=10, show=0))\n\nfig, axs = plt.subplots(1, 2,  sharey=True, figsize=(10, 8))\nim = axs[0].imshow(Rrtm[nvs//2, :, nt:].T, cmap='gray',\n                   vmin=-0.4*np.max(np.abs(Rrtm[nvs//2, :, nt:])),\n                   vmax=0.4*np.max(np.abs(Rrtm[nvs//2, :, nt:])),\n                   extent=(vs[0][0], vs[0][-1], t[-1], t[0]))\naxs[0].set_title('R single-scattering')\naxs[0].set_xlabel(r'$x_{VS}$')\naxs[0].set_ylabel(r'$t$')\naxs[0].axis('tight')\naxs[1].imshow(Rmck[nvs//2, :, nt:].T, cmap='gray',\n              vmin=-0.7*np.max(np.abs(Rmck[nvs//2, :, nt:])),\n              vmax=0.7*np.max(np.abs(Rmck[nvs//2, :, nt:])),\n              extent=(vs[0][0], vs[0][-1], t[-1], t[0]))\naxs[1].set_title('R Marchenko')\naxs[1].set_xlabel(r'$x_{VS}$')\naxs[1].axis('tight')\naxs[1].set_ylim(0.7, 0.)\nfig.tight_layout()"
      ]
    }
  ],
  "metadata": {
    "kernelspec": {
      "display_name": "Python 3",
      "language": "python",
      "name": "python3"
    },
    "language_info": {
      "codemirror_mode": {
        "name": "ipython",
        "version": 3
      },
      "file_extension": ".py",
      "mimetype": "text/x-python",
      "name": "python",
      "nbconvert_exporter": "python",
      "pygments_lexer": "ipython3",
      "version": "3.9.18"
    }
  },
  "nbformat": 4,
  "nbformat_minor": 0
}